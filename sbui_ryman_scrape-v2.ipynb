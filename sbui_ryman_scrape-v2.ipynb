{
 "cells": [
  {
   "cell_type": "code",
   "execution_count": null,
   "id": "f9842f42",
   "metadata": {},
   "outputs": [],
   "source": []
  },
  {
   "cell_type": "code",
   "execution_count": 1,
   "id": "25f37f3d",
   "metadata": {},
   "outputs": [],
   "source": [
    "import pandas as pd\n",
    "import requests\n",
    "from bs4 import BeautifulSoup as BS"
   ]
  },
  {
   "cell_type": "code",
   "execution_count": 2,
   "id": "a6e136db",
   "metadata": {},
   "outputs": [],
   "source": [
    "# im dead"
   ]
  },
  {
   "cell_type": "code",
   "execution_count": 3,
   "id": "10f3c6e1",
   "metadata": {
    "scrolled": true
   },
   "outputs": [
    {
     "name": "stdout",
     "output_type": "stream",
     "text": [
      "https://ryman.com/events/list/?tribe_event_display=list&tribe_paged=0\n",
      "https://ryman.com/events/list/?tribe_event_display=list&tribe_paged=1\n",
      "https://ryman.com/events/list/?tribe_event_display=list&tribe_paged=2\n",
      "https://ryman.com/events/list/?tribe_event_display=list&tribe_paged=3\n",
      "https://ryman.com/events/list/?tribe_event_display=list&tribe_paged=4\n",
      "https://ryman.com/events/list/?tribe_event_display=list&tribe_paged=5\n"
     ]
    }
   ],
   "source": [
    "# Scrape Ryman events from URL and iterate through 5 following events pages.\n",
    "\n",
    "# create empty tables to dump times and performer results into\n",
    "all_times = []\n",
    "all_perf = [] \n",
    "all_open = []\n",
    "\n",
    "for u in range(0,6):\n",
    "# convert range values to string to concat with url string\n",
    "    page = str(u)\n",
    "    \n",
    "# apply string to end of url\n",
    "    url = 'https://ryman.com/events/list/?tribe_event_display=list&tribe_paged=' + page\n",
    "    \n",
    "# print url while running loop to check page number iteration\n",
    "    print(url)\n",
    "    \n",
    "# request html from url source\n",
    "    r = requests.get(url)\n",
    "    \n",
    "# soup html from request as text\n",
    "    soup = BS(r.text)\n",
    "    \n",
    "# find time tags\n",
    "    showtimes = soup.findAll('time')\n",
    "    \n",
    "# select text from html time table 'showtimes'\n",
    "    times_list = [x.text for x in showtimes]\n",
    "    \n",
    "# find event performer names from 'h2' using class identifier, to table 'performances'\n",
    "    performances = soup.findAll('h2', attrs={'class':'tribe-events-list-event-title'})\n",
    "    \n",
    "# select text from html results table 'performances'\n",
    "    perf_list = [x.find('a').get('title') for x in performances]\n",
    "# opener list\n",
    "# find openers and add nulls to no spans\n",
    "# find openers\n",
    "    openers = soup.findAll('div', attrs={'class':'tribe-beside-image'})\n",
    "    opener = soup.findAll('span', attrs={'class':'opener'})\n",
    "\n",
    "    o_list = [x.text for x in opener]\n",
    "\n",
    "# dump results into above created tables and add newly iterated results to the tables\n",
    "    all_times += times_list \n",
    "    all_perf += perf_list\n",
    "    all_open += o_list"
   ]
  },
  {
   "cell_type": "code",
   "execution_count": 4,
   "id": "0ed63b0b",
   "metadata": {},
   "outputs": [
    {
     "data": {
      "text/plain": [
       "['with Jessi Colter and Jeremy Ivey',\n",
       " 'Solo Tour',\n",
       " 'with Christone \"Kingfish\" Ingram',\n",
       " 'World Tour 2023',\n",
       " '2nd Show Added!',\n",
       " 'World Tour 2023',\n",
       " 'The Old Friends Acoustic Tour',\n",
       " 'with Steven Day and Jordy Searcy',\n",
       " ' ',\n",
       " '2nd Show Added!',\n",
       " '2nd Show Added!',\n",
       " 'with Kaitlin Butts',\n",
       " 'with Meg McRee',\n",
       " 'with special guest Dave Barnes',\n",
       " 'with special guest Dave Barnes',\n",
       " 'with Benjamin William Hastings',\n",
       " 'Live at the Opry House',\n",
       " 'Part of the Nashville Comedy Festival']"
      ]
     },
     "execution_count": 4,
     "metadata": {},
     "output_type": "execute_result"
    }
   ],
   "source": [
    "o_list"
   ]
  },
  {
   "cell_type": "code",
   "execution_count": 5,
   "id": "308556a9",
   "metadata": {},
   "outputs": [],
   "source": [
    "open_df = pd.DataFrame()\n",
    "open_df['WTF_RYMAN'] = all_open"
   ]
  },
  {
   "cell_type": "code",
   "execution_count": 6,
   "id": "3b54b592",
   "metadata": {},
   "outputs": [],
   "source": [
    "# create empty DF for times and performer results\n",
    "everything = pd.DataFrame()"
   ]
  },
  {
   "cell_type": "code",
   "execution_count": 7,
   "id": "e9f7f9bb",
   "metadata": {},
   "outputs": [],
   "source": [
    "# create df column for artists and showtimes, populate from previous dump tables\n",
    "everything['artist'] = all_perf\n",
    "everything['datetime'] = all_times\n"
   ]
  },
  {
   "cell_type": "code",
   "execution_count": 8,
   "id": "58aa8427",
   "metadata": {},
   "outputs": [
    {
     "data": {
      "text/plain": [
       "(120, 2)"
      ]
     },
     "execution_count": 8,
     "metadata": {},
     "output_type": "execute_result"
    }
   ],
   "source": [
    "everything.shape"
   ]
  },
  {
   "cell_type": "code",
   "execution_count": 9,
   "id": "49ac4980",
   "metadata": {},
   "outputs": [
    {
     "data": {
      "text/plain": [
       "(116, 1)"
      ]
     },
     "execution_count": 9,
     "metadata": {},
     "output_type": "execute_result"
    }
   ],
   "source": [
    "open_df.shape"
   ]
  },
  {
   "cell_type": "code",
   "execution_count": 10,
   "id": "4580d908",
   "metadata": {},
   "outputs": [],
   "source": [
    "# check final df results\n"
   ]
  },
  {
   "cell_type": "code",
   "execution_count": null,
   "id": "39b18574",
   "metadata": {},
   "outputs": [],
   "source": []
  }
 ],
 "metadata": {
  "kernelspec": {
   "display_name": "Python 3 (ipykernel)",
   "language": "python",
   "name": "python3"
  },
  "language_info": {
   "codemirror_mode": {
    "name": "ipython",
    "version": 3
   },
   "file_extension": ".py",
   "mimetype": "text/x-python",
   "name": "python",
   "nbconvert_exporter": "python",
   "pygments_lexer": "ipython3",
   "version": "3.9.13"
  }
 },
 "nbformat": 4,
 "nbformat_minor": 5
}
